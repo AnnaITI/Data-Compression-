{
 "cells": [
  {
   "cell_type": "markdown",
   "metadata": {},
   "source": [
    "*TP réalisé par Rachel Blin dans le cadre du cours d'Alexandrina Rogozan*"
   ]
  },
  {
   "cell_type": "markdown",
   "metadata": {},
   "source": [
    "# Codage de Shannon-Fano\n",
    "\n",
    "L'objectif de ce TP est de réaliser le codage de Shannon-Fano pour le message suivant :  \n",
    "  \n",
    "\"*Il n'existe que deux choses infinies, l'univers et la bêtise humaine... mais pour l'univers, je n'ai pas de certitude absolue.*\" (Albert Einstein)\n",
    "\n",
    "## Simplification de la séquence\n",
    "\n",
    "Afin de rendre la séquence plus simple à encoder, nous allons tout d'abord transformer la phrase de telle sorte à ce qu'elle ne contienne que des caractères présents dans les 26 lettres de l'alphabet en minuscule, sans accents, ainsi que les espaces.\n",
    "\n",
    "La message à encoder devient donc :  \n",
    "  \n",
    "\"*il nexiste que deux choses infinies lunivers et la betise humaine mais pour lunivers je nai pas de certitude absolue*\"\n",
    "\n",
    "## Classification des symboles de la séquence par ordre d'occurences croissants\n",
    "\n",
    "La première étape du codage de Shannon-Fano est de classer les symboles de la séquence à encoder par nombre d'occurences croissants.  \n",
    "  \n",
    "1) Dans un premier temps, répertoriez tous les caractères présents dans le message."
   ]
  },
  {
   "cell_type": "code",
   "execution_count": 1,
   "metadata": {},
   "outputs": [
    {
     "data": {
      "text/plain": [
       "array(['a', 'b', 'c', 'd', 'e', 'f', 'h', 'i', 'j', 'l', 'm', 'n', 'o',\n",
       "       'p', 'q', 'r', 's', 't', 'u', 'v', 'x'], dtype='<U1')"
      ]
     },
     "execution_count": 1,
     "metadata": {},
     "output_type": "execute_result"
    }
   ],
   "source": [
    "import numpy as np\n",
    "\n",
    "\n",
    "m = \"il nexiste que deux choses infinies lunivers et la betise humaine mais pour lunivers je nai pas de certitude absolue\"\n",
    "\n",
    "\n",
    "def unique(message):\n",
    "    \n",
    "    chaine = \"abcdefghijklmnopqrstuvwxyz\"\n",
    "    rep = list()\n",
    "    for i in chaine : \n",
    "        for j in m : \n",
    "            if i == j : \n",
    "                rep = rep +  list(i) \n",
    "                \n",
    "    return(np.unique(rep))\n",
    "\n",
    "unique(m)"
   ]
  },
  {
   "cell_type": "markdown",
   "metadata": {},
   "source": [
    "2) Calculez maintenant le nombre d'occurences de chacun de ces caractères dans le message et rangez ces occurences par nombre croissant."
   ]
  },
  {
   "cell_type": "code",
   "execution_count": 2,
   "metadata": {},
   "outputs": [
    {
     "data": {
      "text/plain": [
       "q     1\n",
       "j     1\n",
       "f     1\n",
       "b     2\n",
       "v     2\n",
       "c     2\n",
       "m     2\n",
       "h     2\n",
       "x     2\n",
       "p     2\n",
       "d     3\n",
       "o     3\n",
       "r     4\n",
       "l     5\n",
       "t     5\n",
       "a     6\n",
       "n     7\n",
       "u     8\n",
       "s    10\n",
       "i    12\n",
       "e    17\n",
       "dtype: int64"
      ]
     },
     "execution_count": 2,
     "metadata": {},
     "output_type": "execute_result"
    }
   ],
   "source": [
    "import operator\n",
    "import pandas as pd\n",
    "\n",
    "def occurencies(message):\n",
    "    \n",
    "    chaine = \"abcdefghijklmnopqrstuvwxyz\"\n",
    "    rep = list()\n",
    "    for i in chaine : \n",
    "        for j in message : \n",
    "            if i == j : \n",
    "                rep = rep +  list(i) \n",
    "                \n",
    "    return(pd.value_counts(rep, ascending = True))\n",
    "\n",
    "occurencies(m)"
   ]
  },
  {
   "cell_type": "markdown",
   "metadata": {},
   "source": [
    "## Séparation des symboles en deux sous-groupes\n",
    "\n",
    "Une fois les symboles classés par ordre d'occurence croissante, il est nécessaire de créer un graphe permettant de séparer les symboles en deux sous-groupes de façon à ce que le nombre total d'occurences soit sensiblement égal entre les deux sous-groupes. Il faut répéter l'opération de telle sorte à ce qu'à la fin du graphe, il ne reste plus q'un seul caractère dans chacune des branches. Ensuite, il faut attribuer au sous-groupe de gauche la valeur 0 et la valeur 1 au sous-groupe de droite.\n",
    "\n",
    "__Exemple__ :  \n",
    "Pour une séquence contenant les caractères (a, b, c, d, e) d'occurences respectives (1, 1, 2, 2, 3) on obtient le graphe suivant : \n",
    "\n",
    "![graphe](TP_Shanon_Fano.png)\n",
    "\n",
    "Ce qui donne donc le codage de Shannon-Fano suivant : \n",
    "\n",
    "| Caractère | Nombre d'occurences | Code Shannon-Fano |\n",
    "|-----------|---------------------|-------------------|\n",
    "| a         | 1                   | 000               |\n",
    "| b         | 1                   | 001               |\n",
    "| c         | 2                   | 01                |\n",
    "| d         | 2                   | 10                |\n",
    "| e         | 3                   | 11                |\n",
    "\n",
    "3) Créez le graphe de séparation des symboles."
   ]
  },
  {
   "cell_type": "code",
   "execution_count": 3,
   "metadata": {},
   "outputs": [],
   "source": [
    "# Tree structure to hold the encoding data\n",
    "class Tree(object):\n",
    "    def __init__(self):\n",
    "        self.g = None\n",
    "        self.d = None\n",
    "        self.data = []\n",
    "        self.x_median = 0\n",
    "        \n",
    "    def set_data(self, l) :\n",
    "        self.data = l\n",
    "        \n",
    "    def set_fils_g(self, t) : \n",
    "            self.g = t\n",
    "            \n",
    "    \n",
    "    def set_fils_d(self, t) : \n",
    "            self.d = t \n",
    "            \n",
    "    def rechercher_valeur(self,valeur):\n",
    "        if self == None : \n",
    "                return False\n",
    "        if valeur in self.data : \n",
    "                return True\n",
    "  \n",
    "        \n",
    "    \n",
    "        \n",
    "\n",
    "def split_occurencies(sorted_occurencies):\n",
    "     \n",
    "    list_g,list_d = np.array_split(sorted_occurencies,2)\n",
    "    \n",
    "    return list_g,list_d\n",
    "\n",
    "\n",
    "\n",
    "\n",
    "def Shannon_Fano(occurencies):\n",
    "    \n",
    "    \"\"\" Recursive function that encodes the coding tree for shannon fano coding.\n",
    "    \n",
    "    # Argument:\n",
    "        - occurencies: The list of tuples containing the sorted occurencies\n",
    "\n",
    "    # Return:\n",
    "        - The coding tree corresponding the the given list of occurencies.\n",
    "    \n",
    "    \"\"\"\n",
    "    t = Tree()\n",
    "    t.set_data(occurencies)\n",
    "    \n",
    "    list_g,list_d = split_occurencies(occurencies)\n",
    "    \n",
    "        \n",
    "    tree_g = Tree()\n",
    "    tree_d = Tree()\n",
    "  \n",
    "    \n",
    "    if occurencies.size > 1 :\n",
    "          \n",
    "                       \n",
    "        tree_g = Shannon_Fano(list_g)\n",
    "        tree_d = Shannon_Fano(list_d)\n",
    "        \n",
    "\n",
    "    \n",
    "    \n",
    "    t.set_fils_g(tree_g)\n",
    "    t.set_fils_d(tree_d)\n",
    "            \n",
    "    return(t)\n",
    "\n",
    "\n",
    "            \n",
    "    \n",
    "def get_dict_codage_recursif(node,i,a) : \n",
    "    if (node == None or not node.rechercher_valeur(i)) :\n",
    "        return ''\n",
    "\n",
    "    else :\n",
    "        return a + get_dict_codage_recursif(node.g,i,'0') + get_dict_codage_recursif(node.d,i,'1')\n",
    " \n",
    "\n",
    "    \n",
    "def get_dict_codage(node):\n",
    "    \"\"\" Take a coding tree and return the associated coding dictionnary.\n",
    "    \n",
    "    # Argument:\n",
    "        - node: The root node of the coding tree.\n",
    "\n",
    "    # Return:\n",
    "        - Dictionnary: The coding dictionnary.\n",
    "\n",
    "    \"\"\"\n",
    "    \n",
    "    dict_cod = dict(node.data)\n",
    "    print(node.data)\n",
    "    for i in dict_cod :        \n",
    "        dict_cod[i] = get_dict_codage_recursif(node.g,i,'0') + get_dict_codage_recursif(node.d,i,'1')\n",
    "\n",
    "    return dict_cod\n",
    "\n",
    "\n",
    "\n"
   ]
  },
  {
   "cell_type": "code",
   "execution_count": 4,
   "metadata": {},
   "outputs": [
    {
     "name": "stdout",
     "output_type": "stream",
     "text": [
      "q     1\n",
      "j     1\n",
      "f     1\n",
      "b     2\n",
      "v     2\n",
      "c     2\n",
      "m     2\n",
      "h     2\n",
      "x     2\n",
      "p     2\n",
      "d     3\n",
      "o     3\n",
      "r     4\n",
      "l     5\n",
      "t     5\n",
      "a     6\n",
      "n     7\n",
      "u     8\n",
      "s    10\n",
      "i    12\n",
      "e    17\n",
      "dtype: int64\n",
      "{'q': '00000', 'j': '00001', 'f': '0001', 'b': '00100', 'v': '00101', 'c': '0011', 'm': '01000', 'h': '01001', 'x': '0101', 'p': '0110', 'd': '0111', 'o': '10000', 'r': '10001', 'l': '1001', 't': '1010', 'a': '1011', 'n': '11000', 'u': '11001', 's': '1101', 'i': '1110', 'e': '1111'}\n"
     ]
    }
   ],
   "source": [
    "print(get_dict_codage(Shannon_Fano(occurencies(m))))"
   ]
  },
  {
   "cell_type": "markdown",
   "metadata": {},
   "source": [
    "# 4) Effectuez maintenant le codage de Shannon-Fano."
   ]
  },
  {
   "cell_type": "code",
   "execution_count": 5,
   "metadata": {},
   "outputs": [],
   "source": [
    "def encode_message(m, dict_codage_Shannon_Fano):\n",
    "    \"\"\" Helper function to encode a given message.\n",
    "    \n",
    "    # Arguments:\n",
    "        - m: String, the message to encode\n",
    "        - dict_coding_Shannon_Fano: Dictionnary containing the coding mapping\n",
    "\n",
    "    # Return:\n",
    "        - String, the coded message.\n",
    "    \"\"\"\n",
    "    message_code = ''\n",
    "    m = m.replace(\" \",\"\")\n",
    "    for i in m :\n",
    "        message_code = message_code + dict_codage_Shannon_Fano[i]\n",
    "\n",
    "    return message_code"
   ]
  },
  {
   "cell_type": "code",
   "execution_count": 6,
   "metadata": {},
   "outputs": [
    {
     "name": "stdout",
     "output_type": "stream",
     "text": [
      "q     1\n",
      "j     1\n",
      "f     1\n",
      "b     2\n",
      "v     2\n",
      "c     2\n",
      "m     2\n",
      "h     2\n",
      "x     2\n",
      "p     2\n",
      "d     3\n",
      "o     3\n",
      "r     4\n",
      "l     5\n",
      "t     5\n",
      "a     6\n",
      "n     7\n",
      "u     8\n",
      "s    10\n",
      "i    12\n",
      "e    17\n",
      "dtype: int64\n"
     ]
    }
   ],
   "source": [
    "m_d = encode_message(m,get_dict_codage(Shannon_Fano(occurencies(m))))"
   ]
  },
  {
   "cell_type": "markdown",
   "metadata": {},
   "source": [
    "## Visualisation de l'encodage \n",
    "\n",
    "En se basant sur le codage binaire des caractères de la table ASCII, le message de départ est le suivant :  \n",
    "\"0100100101001100001000000100111001000101010110000100100101010011010101000100010100100000010100010101010101000101001000000100010001000101010101010101100000100000010000110100100001001111010100110100010101010011001000000100100101001110010001100100100101001110010010010100010101010011001000000100110001010101010011100100100101010110010001010101001001010011001000000100010101010100001000000100110001000001001000000100001001000101010101000100100101010011010001010010000001001000010101010100110101000001010010010100111001000101001000000100110101000001010010010101001100100000010100000100111101010101010100100010000001001100010101010100111001001001010101100100010101010010010100110010000001001010010001010010000001001110010000010100100100100000010100000100000101010011001000000100010001000101001000000100001101000101010100100101010001001001010101000101010101000100010001010010000001000001010000100101001101001111010011000101010101000101\"\n",
    "\n",
    "5) Que peut-on dire du rôle du codage de Shannon-Fano sur le message en entrée?"
   ]
  },
  {
   "cell_type": "code",
   "execution_count": 7,
   "metadata": {},
   "outputs": [],
   "source": [
    "binaire = \"0100100101001100001000000100111001000101010110000100100101010011010101000100010100100000010100010101010101000101001000000100010001000101010101010101100000100000010000110100100001001111010100110100010101010011001000000100100101001110010001100100100101001110010010010100010101010011001000000100110001010101010011100100100101010110010001010101001001010011001000000100010101010100001000000100110001000001001000000100001001000101010101000100100101010011010001010010000001001000010101010100110101000001010010010100111001000101001000000100110101000001010010010101001100100000010100000100111101010101010100100010000001001100010101010100111001001001010101100100010101010010010100110010000001001010010001010010000001001110010000010100100100100000010100000100000101010011001000000100010001000101001000000100001101000101010100100101010001001001010101000101010101000100010001010010000001000001010000100101001101001111010011000101010101000101\"\n",
    "\n",
    "def decoder_message(m, dict_codage_Shannon_Fano): \n",
    "    print(dict_codage_Shannon_Fano)\n",
    "    message_decode = ''\n",
    "    mot = ''\n",
    "    \n",
    "    for i in m :\n",
    "        mot = mot + i \n",
    "        for k,val in dict_codage_Shannon_Fano.items():\n",
    "            if mot == val:\n",
    "                message_decode = message_decode + k\n",
    "                mot = ''\n",
    "    \n",
    "\n",
    "    return message_decode\n"
   ]
  },
  {
   "cell_type": "code",
   "execution_count": 8,
   "metadata": {},
   "outputs": [
    {
     "name": "stdout",
     "output_type": "stream",
     "text": [
      "q     1\n",
      "j     1\n",
      "f     1\n",
      "b     2\n",
      "v     2\n",
      "c     2\n",
      "m     2\n",
      "h     2\n",
      "x     2\n",
      "p     2\n",
      "d     3\n",
      "o     3\n",
      "r     4\n",
      "l     5\n",
      "t     5\n",
      "a     6\n",
      "n     7\n",
      "u     8\n",
      "s    10\n",
      "i    12\n",
      "e    17\n",
      "dtype: int64\n",
      "{'q': '00000', 'j': '00001', 'f': '0001', 'b': '00100', 'v': '00101', 'c': '0011', 'm': '01000', 'h': '01001', 'x': '0101', 'p': '0110', 'd': '0111', 'o': '10000', 'r': '10001', 'l': '1001', 't': '1010', 'a': '1011', 'n': '11000', 'u': '11001', 's': '1101', 'i': '1110', 'e': '1111'}\n"
     ]
    },
    {
     "data": {
      "text/plain": [
       "'ilnexistequedeuxchosesinfiniesluniversetlabetisehumainemaispourluniversjenaipasdecertitudeabsolue'"
      ]
     },
     "execution_count": 8,
     "metadata": {},
     "output_type": "execute_result"
    }
   ],
   "source": [
    "decoder_message(m_d,get_dict_codage(Shannon_Fano(occurencies(m))) )"
   ]
  },
  {
   "cell_type": "code",
   "execution_count": 9,
   "metadata": {},
   "outputs": [
    {
     "data": {
      "text/plain": [
       "(928, 420)"
      ]
     },
     "execution_count": 9,
     "metadata": {},
     "output_type": "execute_result"
    }
   ],
   "source": [
    "len(binaire),len(m_d)"
   ]
  },
  {
   "cell_type": "markdown",
   "metadata": {},
   "source": [
    "On peut voir que le codage à longueur variable en fonction de l'occurence de chaque lettre économise beaucoup de caractères. Le codage Shannon_Fano est plus optimal car il est plus court de plus de 50%!  "
   ]
  },
  {
   "cell_type": "code",
   "execution_count": null,
   "metadata": {},
   "outputs": [],
   "source": []
  }
 ],
 "metadata": {
  "author_info": {
   "class": "Information Theory",
   "information": "Suject, code and corrections are made by Rachel Blin, the class responsible is Alexandrina Rogozan",
   "name": "Rachel Blin"
  },
  "kernelspec": {
   "display_name": "Python 3",
   "language": "python",
   "name": "python3"
  },
  "language_info": {
   "codemirror_mode": {
    "name": "ipython",
    "version": 3
   },
   "file_extension": ".py",
   "mimetype": "text/x-python",
   "name": "python",
   "nbconvert_exporter": "python",
   "pygments_lexer": "ipython3",
   "version": "3.7.9"
  }
 },
 "nbformat": 4,
 "nbformat_minor": 2
}
