{
 "cells": [
  {
   "cell_type": "markdown",
   "metadata": {},
   "source": [
    "*TP réalisé par Rachel Blin dans le cadre du cours d'Alexandrina Rogozan*"
   ]
  },
  {
   "cell_type": "markdown",
   "metadata": {},
   "source": [
    "# Codage Arithmétique\n",
    "​\n",
    "L'objectif de ce TP est de réaliser le codage Arithmétique du message suivant :  \n",
    "  \n",
    "\"*Il n'existe que deux choses infinies, l'univers et la bêtise humaine... mais pour l'univers, je n'ai pas de certitude absolue.*\" (Albert Einstein)\n",
    "​\n",
    "## Simplification de la séquence\n",
    "​\n",
    "Afin de rendre la séquence plus simple à encoder, nous allons tout d'abord transformer la phrase de telle sorte à ce qu'elle ne contienne que des caractères présents dans les 26 lettres de l'alphabet en minuscule, sans accents, ainsi que les espaces et un point final qui fera office de symbole \"end-of-data\".\n",
    "​\n",
    "Le message à encoder devient donc :  \n",
    "  \n",
    "\"*il nexiste que deux choses infinies lunivers et la betise humaine mais pour lunivers je nai pas de certitude absolue.*\"\n",
    "​\n",
    "## Classification des symboles de la séquence par ordre d'occurences croissants\n",
    "​\n",
    "La première étape du codage Arithmétique est de classer les symboles de la séquence à encoder par nombre d'occurences croissants.  \n",
    "  \n",
    "1) Dans un premier temps, répertoriez tous les caractères présents dans le message."
   ]
  },
  {
   "cell_type": "code",
   "execution_count": 1,
   "metadata": {},
   "outputs": [
    {
     "name": "stdout",
     "output_type": "stream",
     "text": [
      "['i', 'l', ' ', 'n', 'e', 'x', 's', 't', 'q', 'u', 'd', 'c', 'h', 'o', 'f', 'v', 'r', 'a', 'b', 'm', 'p', 'j', '.']\n"
     ]
    }
   ],
   "source": [
    "m = \"il nexiste que deux choses infinies lunivers et la betise humaine mais pour lunivers je nai pas de certitude absolue.\"\n",
    "\n",
    "def unique(message):\n",
    "    \"\"\" Helper function that return a list of the unique characters in the input message.\n",
    "    \n",
    "    # Argument:\n",
    "        - message: The input string to be processed.\n",
    "    \n",
    "    # Return:\n",
    "        A list containing all the unique characters in the input string.\n",
    "    \"\"\"\n",
    "    \n",
    "    chars = [ ] \n",
    "    for char in message: \n",
    "        if char not in chars: \n",
    "            chars.append(char) \n",
    "    return chars\n",
    "\n",
    "chars = unique(m)\n",
    "print(chars)"
   ]
  },
  {
   "cell_type": "markdown",
   "metadata": {},
   "source": [
    "2) Calculez maintenant le nombre d'occurences de chacun de ces caractères dans le message et rangez ces occurences par nombre croissant."
   ]
  },
  {
   "cell_type": "code",
   "execution_count": 2,
   "metadata": {},
   "outputs": [
    {
     "name": "stdout",
     "output_type": "stream",
     "text": [
      "[('q', 1), ('f', 1), ('j', 1), ('.', 1), ('x', 2), ('c', 2), ('h', 2), ('v', 2), ('b', 2), ('m', 2), ('p', 2), ('d', 3), ('o', 3), ('r', 4), ('l', 5), ('t', 5), ('a', 6), ('n', 7), ('u', 8), ('s', 10), ('i', 12), ('e', 17), (' ', 19)]\n"
     ]
    }
   ],
   "source": [
    "import operator\n",
    "\n",
    "def occurences(message):\n",
    "    \"\"\" Function that counts the number of occurences in a message.\n",
    "    \n",
    "    # Argument:\n",
    "        - message: The input string to be processed.\n",
    "    \n",
    "    # Return:\n",
    "        A list of tuples containing each character and its number of occurences in the message.\n",
    "    \"\"\"\n",
    "    \n",
    "    occurences = []\n",
    "    chars = unique(message)\n",
    "    for char in chars:\n",
    "        nb = message.count(char)\n",
    "        occurences.append((char, nb))\n",
    "       \n",
    "    return sorted(occurences, key=lambda x: x[1])\n",
    "\n",
    "sorted_occurences = occurences(m)\n",
    "print(sorted_occurences)\n",
    "\n",
    "    \n",
    "def order_by_values(occurencies_list):\n",
    "    \"\"\"A function that orders a list of occurences in increasing order.\n",
    "    \n",
    "    # Argument:\n",
    "        - message: The occurencies list.\n",
    "    \n",
    "    # Return:\n",
    "        The ordered occurencies list.\n",
    "    \"\"\""
   ]
  },
  {
   "cell_type": "markdown",
   "metadata": {},
   "source": [
    "## Création du tableau des intervalles\n",
    "\n",
    "Afin de pouvoir procéder au codage Arithmétique, il est nécessaire de transformer le nombre d'occurences par lettre en probabilité d'apparition de celles-ci dans le mot. Cela permettra d'effectuer un tableau d'appartition des lettres dans le mot et ainsi de leur associer un intervalle. \n",
    "\n",
    "__Exemple__ :  \n",
    "Pour le message \"babececedd\" contenant les caractères (a, b, c, d, e) d'occurences respectives (1, 2, 2, 2, 3) on obtient le tableau suivant : \n",
    "\n",
    "| Caractère | Probabilité de la lettre | Intervalle |\n",
    "|-----------|---------------------|-------------------|\n",
    "| e         | 3/10                   | [0, 0.3[               |\n",
    "| d         | 2/10                   | [0.3, 0.5[               |\n",
    "| c         | 2/10                   | [0.5, 0.7[                |\n",
    "| b         | 2/10                   | [0.7, 0.9[                |\n",
    "| a         | 1/10                   | [0.9, 1[                |  \n",
    "\n",
    "3) Créez le tableau des intervalles correspondant à notre message. Pour éviter de travailler avec des nombres inexacts, nous allons utiliser le type \"Fraction\" de la librairie fraction."
   ]
  },
  {
   "cell_type": "code",
   "execution_count": null,
   "metadata": {},
   "outputs": [],
   "source": []
  },
  {
   "cell_type": "code",
   "execution_count": 3,
   "metadata": {},
   "outputs": [
    {
     "data": {
      "text/plain": [
       "[['q', Fraction(1, 117), Fraction(116, 117), 1],\n",
       " ['f', Fraction(1, 117), Fraction(115, 117), Fraction(116, 117)],\n",
       " ['j', Fraction(1, 117), Fraction(38, 39), Fraction(115, 117)],\n",
       " ['.', Fraction(1, 117), Fraction(113, 117), Fraction(38, 39)],\n",
       " ['x', Fraction(2, 117), Fraction(37, 39), Fraction(113, 117)],\n",
       " ['c', Fraction(2, 117), Fraction(109, 117), Fraction(37, 39)],\n",
       " ['h', Fraction(2, 117), Fraction(107, 117), Fraction(109, 117)],\n",
       " ['v', Fraction(2, 117), Fraction(35, 39), Fraction(107, 117)],\n",
       " ['b', Fraction(2, 117), Fraction(103, 117), Fraction(35, 39)],\n",
       " ['m', Fraction(2, 117), Fraction(101, 117), Fraction(103, 117)],\n",
       " ['p', Fraction(2, 117), Fraction(11, 13), Fraction(101, 117)],\n",
       " ['d', Fraction(1, 39), Fraction(32, 39), Fraction(11, 13)],\n",
       " ['o', Fraction(1, 39), Fraction(31, 39), Fraction(32, 39)],\n",
       " ['r', Fraction(4, 117), Fraction(89, 117), Fraction(31, 39)],\n",
       " ['l', Fraction(5, 117), Fraction(28, 39), Fraction(89, 117)],\n",
       " ['t', Fraction(5, 117), Fraction(79, 117), Fraction(28, 39)],\n",
       " ['a', Fraction(2, 39), Fraction(73, 117), Fraction(79, 117)],\n",
       " ['n', Fraction(7, 117), Fraction(22, 39), Fraction(73, 117)],\n",
       " ['u', Fraction(8, 117), Fraction(58, 117), Fraction(22, 39)],\n",
       " ['s', Fraction(10, 117), Fraction(16, 39), Fraction(58, 117)],\n",
       " ['i', Fraction(4, 39), Fraction(4, 13), Fraction(16, 39)],\n",
       " ['e', Fraction(17, 117), Fraction(19, 117), Fraction(4, 13)],\n",
       " [' ', Fraction(19, 117), Fraction(0, 1), Fraction(19, 117)]]"
      ]
     },
     "execution_count": 3,
     "metadata": {},
     "output_type": "execute_result"
    }
   ],
   "source": [
    "from fractions import Fraction\n",
    "\n",
    "def calcul_probas(sorted_occurences, message):\n",
    "    \"\"\"A function computing the probability of the character knowing its number of occurences in the message.\n",
    "    \n",
    "    # Arguments:\n",
    "        - sorted_occurencies : A list of tuples containing each character of the string and its number of occurencies.\n",
    "        - message: The input string to be processed.\n",
    "    \n",
    "    # Return:\n",
    "        A list of tuples containing for each chracter its probability.\n",
    "    \"\"\"\n",
    "    \n",
    "    proba_tot = len(message) \n",
    "    proba = []\n",
    "    \n",
    "    for i in range(len(sorted_occurences)): \n",
    "        proba += [[sorted_occurences[i][0],Fraction(sorted_occurences[i][1],proba_tot)]]\n",
    "    \n",
    "    return proba\n",
    "        \n",
    "    \n",
    "def calcul_tableau(sorted_occurences_probas):\n",
    "    \"\"\"The function associating a range to each character.\n",
    "    \n",
    "    # Arguments:\n",
    "        - sorted_occurencies : A list of tuples containing each character of the string and its number of occurencies.\n",
    "    \n",
    "    # Return:\n",
    "        A list of tuples containing for each character its probability and its range.\n",
    "    \"\"\"\n",
    "    tab_proba = []\n",
    "    upper_bound = 1\n",
    "    \n",
    "    for i in sorted_occurences_probas :\n",
    "        tab_proba += [[i[0],i[1], Fraction(upper_bound-i[1]), upper_bound]]\n",
    "        upper_bound = Fraction(upper_bound-i[1]) \n",
    "        \n",
    "    return tab_proba\n",
    "    \n",
    "calcul_tableau(calcul_probas(sorted_occurences,m))"
   ]
  },
  {
   "cell_type": "markdown",
   "metadata": {},
   "source": [
    "## Algorithme de la modification des bornes supérieures et inférieures\n",
    "\n",
    "Le but du codage Arithmétique est de remplacer le message d'origine par un nombre flottant qui lui correspond. Le message va donc se transformer en nombre compris entre 0 et 1.   \n",
    "\n",
    "L'algorithme pour trouver ce nombre et le suivant :  \n",
    "\n",
    "__Initialisation__   \n",
    "borne_inf = 0  \n",
    "borne_sup = 1    \n",
    "\n",
    "__Traitement__  \n",
    "Pour caractère dans message :  \n",
    "    new_borne_inf = borne_inf + (borne_sup - borne_inf) * borne_inf(caractère)  \n",
    "    borne_sup = borne_inf + (borne_sup - borne_inf) * borne_sup(caractère)  \n",
    "    borne_inf = new_borne_inf    \n",
    "    \n",
    "Pour illustrer cet algorithme, nous allons reprendre l'exemple plus haut.\n",
    "\n",
    "__Exemple__ :  \n",
    "Pour rappel, le message étudié est \"babececedd\" contenant les caractères (a, b, c, d, e) d'occurences respectives (1, 2, 2, 2, 3). Le tableau d'intervalles qui résulte de ce message est le suivant : \n",
    "\n",
    "| Caractère | Probabilité de la lettre | Intervalle |\n",
    "|-----------|---------------------|-------------------|\n",
    "| e         | 3/10                   | [0, 0.3[               |\n",
    "| d         | 2/10                   | [0.3, 0.5[               |\n",
    "| c         | 2/10                   | [0.5, 0.7[                |\n",
    "| b         | 2/10                   | [0.7, 0.9[                |\n",
    "| a         | 1/10                   | [0.9, 1[                |  \n",
    "  \n",
    "  \n",
    "Pour la première lettre (b) on obtient les résultats suivants :  \n",
    "borne_inf = 0.0 + (1 - 0.0) * 0.7 = 0.7  \n",
    "borne_sup = 0.0 + (1 - 0.0) * 0.9 = 0.9    \n",
    "\n",
    "Pour la deuxième lettre (a) on on obtient les résultats suivants :  \n",
    "borne_inf = 0.7 + (0.9 - 0.7) * 0.9 = 0.88  \n",
    "borne_sup = 0.7 + (0.9 - 0.7) * 1 = 0.9  \n",
    "\n",
    "On répète l'opération jusqu'à obtenir le tableau suivant :    \n",
    "    \n",
    "| Caractère | Borne inférieure | Borne supérieure |\n",
    "|-----------|---------------------|-------------------|\n",
    "| initialisation | 0.0     | 1.0     |\n",
    "| b         | 0.7     | 0.9     |\n",
    "| a         | 0.88   | 0.9         |\n",
    "| b         | 0.894     | 0.898     |\n",
    "| e         | 0.894   | 0.8952          |\n",
    "| c         | 0.8946     | 0.89484       |  \n",
    "| e         | 0.8946       | 0.894672       |  \n",
    "| c         | 0.894636     | 0.8946504         |  \n",
    "| e         | 0.894636   | 0.89464032        |  \n",
    "| d         | 0.894637296      | 0.89463816     |  \n",
    "| d         |  0.8946375552  |  0.894637728 |    \n",
    "\n",
    "Une fois tout ça calculé on en déduit que tous les nombres flottants compris entre 0.8946375552 et 0.894637728 est le format compressé du mot \"babececedd\"\n",
    "\n",
    "4) Calculez le format compressé de notre message."
   ]
  },
  {
   "cell_type": "code",
   "execution_count": 4,
   "metadata": {},
   "outputs": [],
   "source": [
    "def update_bounds(lower_bound, upper_bound, lower_bound_char, upper_bound_char):\n",
    "    \"\"\"A function to update the bounds of the encoded message.\n",
    "    \n",
    "    # Arguments:\n",
    "        - lower_bound: The lower bound of the encoded message.\n",
    "        - upper_bound: The upper bound of the encoded message.\n",
    "        - lower_bound_char: The lower  bound of the character.\n",
    "        - upper_bound_char: The upper bound of the character.\n",
    "    \n",
    "    # Return:\n",
    "        The lower and upper bounds of the encoded message.\n",
    "    \"\"\"\n",
    "\n",
    "    new_lower_bound = lower_bound + (upper_bound - lower_bound) *lower_bound_char\n",
    "    upper_bound = lower_bound + (upper_bound - lower_bound) *upper_bound_char\n",
    "    lower_bound = new_lower_bound\n",
    "    \n",
    "    return lower_bound,upper_bound\n",
    "    \n",
    "def arithmetic_coding(probability_array, message):\n",
    "    \"\"\"A function to make the arithmetic coding of a message\n",
    "    \n",
    "    # Arguments:\n",
    "        - probability_array: The array containing the probability of each character.\n",
    "        - message: The message to be encoded.\n",
    "    \n",
    "    # Return:\n",
    "        The arithmetic coding of the message.\n",
    "\n",
    "    \"\"\"\n",
    "    lower_bound = 0 \n",
    "    upper_bound = 1\n",
    "    for i in message :\n",
    "        for j in probability_array :\n",
    "            if i == j[0] : \n",
    "                lower_bound,upper_bound = update_bounds(lower_bound,upper_bound,j[2],j[3])\n",
    "                \n",
    "        \n",
    "    return lower_bound,upper_bound"
   ]
  },
  {
   "cell_type": "code",
   "execution_count": 11,
   "metadata": {},
   "outputs": [
    {
     "data": {
      "text/plain": [
       "(Fraction(128412153169200988783424484232938540907182544254885193499248137532835704483122612762255347885303063177570702174972584319031278584182828663477848127026660587508329758275417112881523794282898015947531521432485797984071100185489957060, 336384294712353114063350279183244962030994145671351657996042557211308632260916606995650615941024673246635016358004287827908894919105393932800585126275368391209577064859525092338012473419464146810444500873889422595049480804373051717),\n",
       " Fraction(42804051056400329594474828077646180302394181418295064499749379177611901494374204254085115961767687725856900724990861439677092861394276221162597795172069427792852674156705318477822612578067793368213799424351679861357033395163319020, 112128098237451038021116759727748320676998048557117219332014185737102877420305535665216871980341557748878338786001429275969631639701797977600195042091789463736525688286508364112670824473154715603481500291296474198349826934791017239))"
      ]
     },
     "execution_count": 11,
     "metadata": {},
     "output_type": "execute_result"
    }
   ],
   "source": [
    "\n",
    "lower_bound,upper_bound = arithmetic_coding(calcul_tableau(calcul_probas(sorted_occurences,m)),m)\n",
    "lower_bound, upper_bound"
   ]
  },
  {
   "cell_type": "code",
   "execution_count": 6,
   "metadata": {},
   "outputs": [
    {
     "data": {
      "text/plain": [
       "0.3817424154091617"
      ]
     },
     "execution_count": 6,
     "metadata": {},
     "output_type": "execute_result"
    }
   ],
   "source": [
    "128412153169200988783424484232938540907182544254885193499248137532835704483122612762255347885303063177570702174972584319031278584182828663477848127026660587508329758275417112881523794282898015947531521432485797984071100185489957060/336384294712353114063350279183244962030994145671351657996042557211308632260916606995650615941024673246635016358004287827908894919105393932800585126275368391209577064859525092338012473419464146810444500873889422595049480804373051717"
   ]
  },
  {
   "cell_type": "markdown",
   "metadata": {},
   "source": [
    "## Décompression\n",
    "\n",
    "Afin de retrouver notre message de départ à partir du décimal reçu, il faut effectuer  un algorithme de décompression. Pour effectuer cette décompression, on va partir de la borne inférieure de l'intervalle correspondant au message reçu qu'on appellera nombre du mot. Le premier caractère du message est le caractère dont l'intervalle comprend le nombre du mot. Une fois ce caractère trouvé, on modifie le nombre représentant le mot par la formule suivante :    \n",
    "\n",
    "nombre_du_mot = (nombre_du_mot - borne_inf_char)/proba_char\n",
    "\n",
    "On va illustrer cette décompression toujours en revenant à notre exemple.\n",
    "\n",
    "__Exemple__ :  \n",
    "Pour rappel, le message étudié est \"babececedd\" contenant les caractères (a, b, c, d, e) d'occurences respectives (1, 2, 2, 2, 3). Le tableau d'intervalles qui résulte de ce message est le suivant : \n",
    "\n",
    "| Caractère | Probabilité de la lettre | Intervalle |\n",
    "|-----------|---------------------|-------------------|\n",
    "| e         | 3/10                   | [0, 0.3[               |\n",
    "| d         | 2/10                   | [0.3, 0.5[               |\n",
    "| c         | 2/10                   | [0.5, 0.7[                |\n",
    "| b         | 2/10                   | [0.7, 0.9[                |\n",
    "| a         | 1/10                   | [0.9, 1[                |  \n",
    "    \n",
    "Après calcul du codage Arithmétique de ce message, on en déduit que tous les nombres flottants compris entre 0.8946375552 et 0.894637728 est le format compressé du mot \"babececedd\".    \n",
    "\n",
    "On a donc :  \n",
    "nombre_du_mot = 0.8946375552\n",
    "\n",
    "Le nombre du mot étant compris entre 0.7 et 0.9, il correspond donc à la lettre b. Le nombre du mot est donc mis à jour par la formule suivante :  \n",
    "nombre_du_mot = (0.8946375552 - 0.7) / 0.2 = 0.973187776    \n",
    "\n",
    "Le nombre du mot étant compris entre 0.9 et 1, c'est la lettre a qui est la suivante dans notre message. On répètera donc le processus jusqu'à obtenir le décodage du message illustré dans le tableau suivant :    \n",
    "\n",
    "| Mot | Lettre | Nouveau code |\n",
    "|-----------|---------------------|-------------------|\n",
    "| initialisation | - | 0.8946375552 |\n",
    "| - | b | 0.973187776 |\n",
    "| b | a | 0.73187776 |\n",
    "| ba | b | 0.1593888 |\n",
    "| bab | e | 0.531296 |\n",
    "| babe | c | 0.15648 |\n",
    "| babec | e | 0.5216 |\n",
    "| babece | c | 0.108 |\n",
    "| babecec | e | 0.36 |\n",
    "| babecece | d | 0.3 |\n",
    "| babececed | d | 0 |\n",
    "| babececedd | - | - |\n",
    "\n",
    "5) Encodez ce message avec le codage Arithmétique puis décodez-le."
   ]
  },
  {
   "cell_type": "code",
   "execution_count": 20,
   "metadata": {},
   "outputs": [],
   "source": [
    "m = \"il nexiste que deux choses infinies lunivers et la betise humaine mais pour lunivers je nai pas de certitude absolue.\"\n",
    "\n",
    "def arithmetic_decoding(arithmetic_coding, probability_array):\n",
    "    \"\"\"A function to decode the message.\n",
    "    \n",
    "    # Arguments:\n",
    "        - arithmetic_coding: The arithmetic coding of the message.\n",
    "        - probability_array: The probability of apparition of the characters.\n",
    "    \n",
    "    # Return:\n",
    "        The decoded message.\n",
    "    \"\"\"\n",
    "    message_decode = ''\n",
    "    \n",
    "    while arithmetic_coding > 1e-20 : \n",
    "        for i in probability_array : \n",
    "            if (i[2]<=arithmetic_coding) and (i[3]>arithmetic_coding) :\n",
    "                message_decode += i[0]\n",
    "                arithmetic_coding = Fraction((arithmetic_coding-i[2])/(i[3]-i[2]))\n",
    "                \n",
    "    return message_decode"
   ]
  },
  {
   "cell_type": "code",
   "execution_count": 21,
   "metadata": {},
   "outputs": [
    {
     "data": {
      "text/plain": [
       "'il nexiste que deux choses infinies lunivers et la betise humaine mais pour lunivers je nai pas de certitude absoluej '"
      ]
     },
     "execution_count": 21,
     "metadata": {},
     "output_type": "execute_result"
    }
   ],
   "source": [
    "arithmetic_decoding(upper_bound,calcul_tableau(calcul_probas(sorted_occurences,m)))"
   ]
  },
  {
   "cell_type": "code",
   "execution_count": null,
   "metadata": {},
   "outputs": [],
   "source": []
  },
  {
   "cell_type": "code",
   "execution_count": null,
   "metadata": {},
   "outputs": [],
   "source": []
  }
 ],
 "metadata": {
  "author_info": {
   "class": "Information Theory",
   "information": "Suject, code and corrections are made by Rachel Blin, the class responsible is Alexandrina Rogozan",
   "name": "Rachel Blin"
  },
  "kernelspec": {
   "display_name": "Python 3",
   "language": "python",
   "name": "python3"
  },
  "language_info": {
   "codemirror_mode": {
    "name": "ipython",
    "version": 3
   },
   "file_extension": ".py",
   "mimetype": "text/x-python",
   "name": "python",
   "nbconvert_exporter": "python",
   "pygments_lexer": "ipython3",
   "version": "3.7.9"
  }
 },
 "nbformat": 4,
 "nbformat_minor": 2
}
